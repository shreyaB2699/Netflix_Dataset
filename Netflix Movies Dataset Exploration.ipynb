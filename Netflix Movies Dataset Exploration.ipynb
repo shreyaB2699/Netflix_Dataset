{
 "cells": [
  {
   "cell_type": "code",
   "execution_count": 1,
   "metadata": {},
   "outputs": [],
   "source": [
    "import pandas as pd # IMPORTING PANDAS\n",
    "import matplotlib.pyplot as plt # IMPORTING PYPLOT\n",
    "import numpy as np # IMPORTING NUMPY\n",
    "import re # IMPORTING REGEX"
   ]
  },
  {
   "cell_type": "code",
   "execution_count": 2,
   "metadata": {},
   "outputs": [],
   "source": [
    "nt = pd.read_csv('netflix_titles.csv') # READING THE CSV FILE AS DATAFRAME"
   ]
  },
  {
   "cell_type": "code",
   "execution_count": 3,
   "metadata": {},
   "outputs": [
    {
     "name": "stdout",
     "output_type": "stream",
     "text": [
      "     show_id     type                                    title  \\\n",
      "0         s1  TV Show                                       3%   \n",
      "1         s2    Movie                                     7:19   \n",
      "2         s3    Movie                                    23:59   \n",
      "3         s4    Movie                                        9   \n",
      "4         s5    Movie                                       21   \n",
      "...      ...      ...                                      ...   \n",
      "7782   s7783    Movie                                     Zozo   \n",
      "7783   s7784    Movie                                   Zubaan   \n",
      "7784   s7785    Movie                        Zulu Man in Japan   \n",
      "7785   s7786  TV Show                    Zumbo's Just Desserts   \n",
      "7786   s7787    Movie  ZZ TOP: THAT LITTLE OL' BAND FROM TEXAS   \n",
      "\n",
      "               director                                               cast  \\\n",
      "0                   NaN  João Miguel, Bianca Comparato, Michel Gomes, R...   \n",
      "1     Jorge Michel Grau  Demián Bichir, Héctor Bonilla, Oscar Serrano, ...   \n",
      "2          Gilbert Chan  Tedd Chan, Stella Chung, Henley Hii, Lawrence ...   \n",
      "3           Shane Acker  Elijah Wood, John C. Reilly, Jennifer Connelly...   \n",
      "4        Robert Luketic  Jim Sturgess, Kevin Spacey, Kate Bosworth, Aar...   \n",
      "...                 ...                                                ...   \n",
      "7782        Josef Fares  Imad Creidi, Antoinette Turk, Elias Gergi, Car...   \n",
      "7783        Mozez Singh  Vicky Kaushal, Sarah-Jane Dias, Raaghav Chanan...   \n",
      "7784                NaN                                            Nasty C   \n",
      "7785                NaN                         Adriano Zumbo, Rachel Khoo   \n",
      "7786           Sam Dunn                                                NaN   \n",
      "\n",
      "                                                country          date_added  \\\n",
      "0                                                Brazil     August 14, 2020   \n",
      "1                                                Mexico   December 23, 2016   \n",
      "2                                             Singapore   December 20, 2018   \n",
      "3                                         United States   November 16, 2017   \n",
      "4                                         United States     January 1, 2020   \n",
      "...                                                 ...                 ...   \n",
      "7782  Sweden, Czech Republic, United Kingdom, Denmar...    October 19, 2020   \n",
      "7783                                              India       March 2, 2019   \n",
      "7784                                                NaN  September 25, 2020   \n",
      "7785                                          Australia    October 31, 2020   \n",
      "7786              United Kingdom, Canada, United States       March 1, 2020   \n",
      "\n",
      "      release_year rating   duration  \\\n",
      "0             2020  TV-MA  4 Seasons   \n",
      "1             2016  TV-MA     93 min   \n",
      "2             2011      R     78 min   \n",
      "3             2009  PG-13     80 min   \n",
      "4             2008  PG-13    123 min   \n",
      "...            ...    ...        ...   \n",
      "7782          2005  TV-MA     99 min   \n",
      "7783          2015  TV-14    111 min   \n",
      "7784          2019  TV-MA     44 min   \n",
      "7785          2019  TV-PG   1 Season   \n",
      "7786          2019  TV-MA     90 min   \n",
      "\n",
      "                                              listed_in  \\\n",
      "0     International TV Shows, TV Dramas, TV Sci-Fi &...   \n",
      "1                          Dramas, International Movies   \n",
      "2                   Horror Movies, International Movies   \n",
      "3     Action & Adventure, Independent Movies, Sci-Fi...   \n",
      "4                                                Dramas   \n",
      "...                                                 ...   \n",
      "7782                       Dramas, International Movies   \n",
      "7783     Dramas, International Movies, Music & Musicals   \n",
      "7784  Documentaries, International Movies, Music & M...   \n",
      "7785                 International TV Shows, Reality TV   \n",
      "7786                    Documentaries, Music & Musicals   \n",
      "\n",
      "                                            description  \n",
      "0     In a future where the elite inhabit an island ...  \n",
      "1     After a devastating earthquake hits Mexico Cit...  \n",
      "2     When an army recruit is found dead, his fellow...  \n",
      "3     In a postapocalyptic world, rag-doll robots hi...  \n",
      "4     A brilliant group of students become card-coun...  \n",
      "...                                                 ...  \n",
      "7782  When Lebanon's Civil War deprives Zozo of his ...  \n",
      "7783  A scrappy but poor boy worms his way into a ty...  \n",
      "7784  In this documentary, South African rapper Nast...  \n",
      "7785  Dessert wizard Adriano Zumbo looks for the nex...  \n",
      "7786  This documentary delves into the mystique behi...  \n",
      "\n",
      "[7787 rows x 12 columns]\n"
     ]
    }
   ],
   "source": [
    "print(nt) #PRINTING THE DATAFRAME"
   ]
  },
  {
   "cell_type": "code",
   "execution_count": 4,
   "metadata": {},
   "outputs": [
    {
     "name": "stdout",
     "output_type": "stream",
     "text": [
      "<class 'pandas.core.frame.DataFrame'>\n"
     ]
    }
   ],
   "source": [
    "print(type(nt)) # PRINTING TYPE OF DATAFRAME TO CONFIRM"
   ]
  },
  {
   "cell_type": "code",
   "execution_count": 5,
   "metadata": {},
   "outputs": [
    {
     "name": "stdout",
     "output_type": "stream",
     "text": [
      "Index(['show_id', 'type', 'title', 'director', 'cast', 'country', 'date_added',\n",
      "       'release_year', 'rating', 'duration', 'listed_in', 'description'],\n",
      "      dtype='object')\n"
     ]
    }
   ],
   "source": [
    "print(nt.columns) #PRINTING COLUMNS"
   ]
  },
  {
   "cell_type": "code",
   "execution_count": 6,
   "metadata": {},
   "outputs": [],
   "source": [
    "nt.set_index('show_id', inplace = True) # SETTING \"show_id\" AS INDEX"
   ]
  },
  {
   "cell_type": "code",
   "execution_count": 7,
   "metadata": {},
   "outputs": [
    {
     "name": "stdout",
     "output_type": "stream",
     "text": [
      "            type                                    title           director  \\\n",
      "show_id                                                                        \n",
      "s1       TV Show                                       3%                NaN   \n",
      "s2         Movie                                     7:19  Jorge Michel Grau   \n",
      "s3         Movie                                    23:59       Gilbert Chan   \n",
      "s4         Movie                                        9        Shane Acker   \n",
      "s5         Movie                                       21     Robert Luketic   \n",
      "...          ...                                      ...                ...   \n",
      "s7783      Movie                                     Zozo        Josef Fares   \n",
      "s7784      Movie                                   Zubaan        Mozez Singh   \n",
      "s7785      Movie                        Zulu Man in Japan                NaN   \n",
      "s7786    TV Show                    Zumbo's Just Desserts                NaN   \n",
      "s7787      Movie  ZZ TOP: THAT LITTLE OL' BAND FROM TEXAS           Sam Dunn   \n",
      "\n",
      "                                                      cast  \\\n",
      "show_id                                                      \n",
      "s1       João Miguel, Bianca Comparato, Michel Gomes, R...   \n",
      "s2       Demián Bichir, Héctor Bonilla, Oscar Serrano, ...   \n",
      "s3       Tedd Chan, Stella Chung, Henley Hii, Lawrence ...   \n",
      "s4       Elijah Wood, John C. Reilly, Jennifer Connelly...   \n",
      "s5       Jim Sturgess, Kevin Spacey, Kate Bosworth, Aar...   \n",
      "...                                                    ...   \n",
      "s7783    Imad Creidi, Antoinette Turk, Elias Gergi, Car...   \n",
      "s7784    Vicky Kaushal, Sarah-Jane Dias, Raaghav Chanan...   \n",
      "s7785                                              Nasty C   \n",
      "s7786                           Adriano Zumbo, Rachel Khoo   \n",
      "s7787                                                  NaN   \n",
      "\n",
      "                                                   country  \\\n",
      "show_id                                                      \n",
      "s1                                                  Brazil   \n",
      "s2                                                  Mexico   \n",
      "s3                                               Singapore   \n",
      "s4                                           United States   \n",
      "s5                                           United States   \n",
      "...                                                    ...   \n",
      "s7783    Sweden, Czech Republic, United Kingdom, Denmar...   \n",
      "s7784                                                India   \n",
      "s7785                                                  NaN   \n",
      "s7786                                            Australia   \n",
      "s7787                United Kingdom, Canada, United States   \n",
      "\n",
      "                 date_added  release_year rating   duration  \\\n",
      "show_id                                                       \n",
      "s1          August 14, 2020          2020  TV-MA  4 Seasons   \n",
      "s2        December 23, 2016          2016  TV-MA     93 min   \n",
      "s3        December 20, 2018          2011      R     78 min   \n",
      "s4        November 16, 2017          2009  PG-13     80 min   \n",
      "s5          January 1, 2020          2008  PG-13    123 min   \n",
      "...                     ...           ...    ...        ...   \n",
      "s7783      October 19, 2020          2005  TV-MA     99 min   \n",
      "s7784         March 2, 2019          2015  TV-14    111 min   \n",
      "s7785    September 25, 2020          2019  TV-MA     44 min   \n",
      "s7786      October 31, 2020          2019  TV-PG   1 Season   \n",
      "s7787         March 1, 2020          2019  TV-MA     90 min   \n",
      "\n",
      "                                                 listed_in  \\\n",
      "show_id                                                      \n",
      "s1       International TV Shows, TV Dramas, TV Sci-Fi &...   \n",
      "s2                            Dramas, International Movies   \n",
      "s3                     Horror Movies, International Movies   \n",
      "s4       Action & Adventure, Independent Movies, Sci-Fi...   \n",
      "s5                                                  Dramas   \n",
      "...                                                    ...   \n",
      "s7783                         Dramas, International Movies   \n",
      "s7784       Dramas, International Movies, Music & Musicals   \n",
      "s7785    Documentaries, International Movies, Music & M...   \n",
      "s7786                   International TV Shows, Reality TV   \n",
      "s7787                      Documentaries, Music & Musicals   \n",
      "\n",
      "                                               description  \n",
      "show_id                                                     \n",
      "s1       In a future where the elite inhabit an island ...  \n",
      "s2       After a devastating earthquake hits Mexico Cit...  \n",
      "s3       When an army recruit is found dead, his fellow...  \n",
      "s4       In a postapocalyptic world, rag-doll robots hi...  \n",
      "s5       A brilliant group of students become card-coun...  \n",
      "...                                                    ...  \n",
      "s7783    When Lebanon's Civil War deprives Zozo of his ...  \n",
      "s7784    A scrappy but poor boy worms his way into a ty...  \n",
      "s7785    In this documentary, South African rapper Nast...  \n",
      "s7786    Dessert wizard Adriano Zumbo looks for the nex...  \n",
      "s7787    This documentary delves into the mystique behi...  \n",
      "\n",
      "[7787 rows x 11 columns]\n"
     ]
    }
   ],
   "source": [
    "print(nt) # PRINTING DATAFRAME"
   ]
  },
  {
   "cell_type": "code",
   "execution_count": 8,
   "metadata": {},
   "outputs": [
    {
     "data": {
      "text/plain": [
       "(7787, 11)"
      ]
     },
     "execution_count": 8,
     "metadata": {},
     "output_type": "execute_result"
    }
   ],
   "source": [
    "nt.shape # CHECKING SHAPE OF THE DATAFRAME"
   ]
  },
  {
   "cell_type": "code",
   "execution_count": 9,
   "metadata": {},
   "outputs": [
    {
     "data": {
      "text/plain": [
       "Index(['type', 'title', 'director', 'cast', 'country', 'date_added',\n",
       "       'release_year', 'rating', 'duration', 'listed_in', 'description'],\n",
       "      dtype='object')"
      ]
     },
     "execution_count": 9,
     "metadata": {},
     "output_type": "execute_result"
    }
   ],
   "source": [
    "nt.columns # PRINTING COLUMNS"
   ]
  },
  {
   "cell_type": "code",
   "execution_count": 10,
   "metadata": {},
   "outputs": [
    {
     "data": {
      "text/plain": [
       "array(['TV Show', 'Movie'], dtype=object)"
      ]
     },
     "execution_count": 10,
     "metadata": {},
     "output_type": "execute_result"
    }
   ],
   "source": [
    "nt.type.unique() # SEEING UNIQUE VALUES IN TYPE COLUMN"
   ]
  },
  {
   "cell_type": "code",
   "execution_count": 11,
   "metadata": {},
   "outputs": [
    {
     "data": {
      "image/png": "[encoded data removed]",
      "text/plain": [
       "<Figure size 504x360 with 1 Axes>"
      ]
     },
     "metadata": {
      "needs_background": "light"
     },
     "output_type": "display_data"
    }
   ],
   "source": [
    "# BAR GRAPH FOR NUMBER OF MOVIES/TV SHOWS\n",
    "\n",
    "plt.figure(figsize = (7,5))\n",
    "plt.bar(['TV Shows','Movies'],[sum(nt.type == 'TV Show'),sum(nt.type == 'Movie')])\n",
    "plt.title('Bar plot for number of movies/TV Shows')\n",
    "plt.xlabel('MEDIA TYPE')\n",
    "plt.ylabel('NUMBER')\n",
    "plt.show()"
   ]
  },
  {
   "cell_type": "code",
   "execution_count": 12,
   "metadata": {},
   "outputs": [
    {
     "name": "stdout",
     "output_type": "stream",
     "text": [
      "7787\n"
     ]
    }
   ],
   "source": [
    "n=0\n",
    "for media in nt.title.unique():\n",
    "    n+=1\n",
    "print(n) # PRINTING NUMBER OF UNIQUE MEDIA"
   ]
  },
  {
   "cell_type": "code",
   "execution_count": 13,
   "metadata": {},
   "outputs": [
    {
     "name": "stdout",
     "output_type": "stream",
     "text": [
      "4050\n"
     ]
    }
   ],
   "source": [
    "n=0\n",
    "for d in nt.director.unique():\n",
    "    n+=1\n",
    "print(n) # PRINTING NUMBER OF UNIQUE directors"
   ]
  },
  {
   "cell_type": "code",
   "execution_count": 14,
   "metadata": {},
   "outputs": [],
   "source": [
    "nt['director'].fillna('None',inplace = True)     # REMOVING THE NaN VALUES from DIRECTOR"
   ]
  },
  {
   "cell_type": "code",
   "execution_count": 15,
   "metadata": {},
   "outputs": [],
   "source": [
    "direc_dict = {} # CREATING DICTIONARY FOR UNIQUE DIRECTORS AND COUNT OF MOVIES/TV SHOWS\n",
    "for d in list(nt.director): \n",
    "        if (d in direc_dict): \n",
    "            direc_dict[d] += 1\n",
    "        else: \n",
    "            direc_dict[d] = 1\n",
    "#print(direc_dict)"
   ]
  },
  {
   "cell_type": "code",
   "execution_count": 16,
   "metadata": {},
   "outputs": [],
   "source": [
    "# REMOVING NaN\n",
    "\n",
    "del direc_dict['None']"
   ]
  },
  {
   "cell_type": "code",
   "execution_count": 17,
   "metadata": {},
   "outputs": [
    {
     "name": "stdout",
     "output_type": "stream",
     "text": [
      "Kunle Afolayan\n",
      "Cathy Garcia-Molina\n",
      "Jay Karas\n",
      "Raúl Campos, Jan Suter\n",
      "Youssef Chahine\n",
      "Martin Scorsese\n",
      "Marcus Raboy\n",
      "Hakan Algül\n",
      "Ryan Polito\n",
      "Shannon Hartman\n",
      "Johnnie To\n",
      "Jay Chapman\n",
      "Steven Spielberg\n",
      "David Dhawan\n",
      "Lance Bangs\n",
      "Quentin Tarantino\n",
      "Robert Rodriguez\n"
     ]
    }
   ],
   "source": [
    "# PRINTING DIRECTORS FOR MORE THAN 7 MOVIES\n",
    "\n",
    "for key,value in direc_dict.items(): \n",
    "    if value>7:\n",
    "        print(key)"
   ]
  },
  {
   "cell_type": "code",
   "execution_count": 18,
   "metadata": {},
   "outputs": [
    {
     "data": {
      "text/plain": [
       "0    681\n",
       "dtype: int64"
      ]
     },
     "execution_count": 18,
     "metadata": {},
     "output_type": "execute_result"
    }
   ],
   "source": [
    "#NUMBER OF COUNTRIES PRESENT\n",
    "\n",
    "pd.DataFrame(nt.country.unique()).count()"
   ]
  },
  {
   "cell_type": "code",
   "execution_count": 19,
   "metadata": {},
   "outputs": [],
   "source": [
    "coun_dict = {} # CREATING DICTIONARY FOR UNIQUE DIRECTORS AND COUNT OF MOVIES/TV SHOWS\n",
    "for c in list(nt.country): \n",
    "        if (c in coun_dict): \n",
    "            coun_dict[c] += 1\n",
    "        else: \n",
    "            coun_dict[c] = 1"
   ]
  },
  {
   "cell_type": "code",
   "execution_count": 20,
   "metadata": {},
   "outputs": [
    {
     "name": "stdout",
     "output_type": "stream",
     "text": [
      "Brazil\n",
      "Mexico\n",
      "United States\n",
      "Turkey\n",
      "Egypt\n",
      "India\n",
      "Thailand\n",
      "Nigeria\n",
      "nan\n",
      "United Kingdom\n",
      "Japan\n",
      "South Korea\n",
      "Italy\n",
      "Canada\n",
      "Indonesia\n",
      "Spain\n",
      "France\n",
      "Argentina\n",
      "Germany\n",
      "Australia\n",
      "Taiwan\n",
      "United States, United Kingdom\n",
      "United States, Canada\n",
      "United Kingdom, United States\n",
      "Canada, United States\n",
      "Hong Kong\n",
      "China\n",
      "Philippines\n",
      "Colombia\n"
     ]
    }
   ],
   "source": [
    "# PRINTING COUNTRIES FOR MORE THAN 30 MOVIES\n",
    "\n",
    "for key,value in coun_dict.items(): \n",
    "    if value>30:\n",
    "        print(key)"
   ]
  },
  {
   "cell_type": "code",
   "execution_count": 21,
   "metadata": {},
   "outputs": [
    {
     "name": "stdout",
     "output_type": "stream",
     "text": [
      "['United States'] 2555\n"
     ]
    }
   ],
   "source": [
    "# PRINTING COUNTRY WITH MAXIMUM NUMBER OF MOVIES\n",
    "\n",
    "max_val = max(coun_dict.values())\n",
    "ls = []\n",
    "\n",
    "for key,value in coun_dict.items():\n",
    "    if value == max_val:\n",
    "        ls.append(key)\n",
    "print(ls,max_val)"
   ]
  },
  {
   "cell_type": "code",
   "execution_count": 22,
   "metadata": {},
   "outputs": [
    {
     "data": {
      "text/plain": [
       "show_id\n",
       "s1          August 14, 2020\n",
       "s2        December 23, 2016\n",
       "s3        December 20, 2018\n",
       "s4        November 16, 2017\n",
       "s5          January 1, 2020\n",
       "                ...        \n",
       "s7783      October 19, 2020\n",
       "s7784         March 2, 2019\n",
       "s7785    September 25, 2020\n",
       "s7786      October 31, 2020\n",
       "s7787         March 1, 2020\n",
       "Name: date_added, Length: 7787, dtype: object"
      ]
     },
     "execution_count": 22,
     "metadata": {},
     "output_type": "execute_result"
    }
   ],
   "source": [
    "# DATE_ADDED VARIABLE\n",
    "\n",
    "nt.date_added"
   ]
  },
  {
   "cell_type": "code",
   "execution_count": 23,
   "metadata": {},
   "outputs": [],
   "source": [
    "# CREATING BINS FOR HISTOGRAM\n",
    "\n",
    "bins = [i for i in range(2010,2021)]\n",
    "#print(bins)"
   ]
  },
  {
   "cell_type": "code",
   "execution_count": 24,
   "metadata": {},
   "outputs": [],
   "source": [
    "nt['date_added'].fillna('0000',inplace = True) # Removing NA values\n",
    "\n",
    "# Retreiving year from dates\n",
    "\n",
    "l = []\n",
    "for date in nt.date_added:\n",
    "    temp = date[-4::]\n",
    "    l.append(int(temp))"
   ]
  },
  {
   "cell_type": "code",
   "execution_count": 25,
   "metadata": {},
   "outputs": [
    {
     "data": {
      "image/png": "[encoded data removed]",
      "text/plain": [
       "<Figure size 504x360 with 1 Axes>"
      ]
     },
     "metadata": {
      "needs_background": "light"
     },
     "output_type": "display_data"
    }
   ],
   "source": [
    "# HISTOGRAM FOR Number of movies added in respective year\n",
    "\n",
    "plt.figure(figsize = (7,5))\n",
    "plt.title('Number of movies added in respective year')\n",
    "plt.xlabel('Years')\n",
    "plt.ylabel('Number of movies')\n",
    "plt.xticks(bins)\n",
    "plt.hist(l,bins,align = 'right',rwidth=0.8,color = 'coral')\n",
    "plt.show()"
   ]
  },
  {
   "cell_type": "code",
   "execution_count": 26,
   "metadata": {},
   "outputs": [
    {
     "data": {
      "text/plain": [
       "show_id\n",
       "s1       2020\n",
       "s2       2016\n",
       "s3       2011\n",
       "s4       2009\n",
       "s5       2008\n",
       "         ... \n",
       "s7783    2005\n",
       "s7784    2015\n",
       "s7785    2019\n",
       "s7786    2019\n",
       "s7787    2019\n",
       "Name: release_year, Length: 7787, dtype: int64"
      ]
     },
     "execution_count": 26,
     "metadata": {},
     "output_type": "execute_result"
    }
   ],
   "source": [
    "#RELEASE YEAR\n",
    "\n",
    "nt.release_year"
   ]
  },
  {
   "cell_type": "code",
   "execution_count": 27,
   "metadata": {},
   "outputs": [
    {
     "data": {
      "image/png": "[encoded data removed]",
      "text/plain": [
       "<Figure size 504x360 with 1 Axes>"
      ]
     },
     "metadata": {
      "needs_background": "light"
     },
     "output_type": "display_data"
    }
   ],
   "source": [
    "# NUMBER OF MOVIES RELEASED IN SPECIFIC YEAR\n",
    "\n",
    "plt.figure(figsize = (7,5))\n",
    "plt.title('Number of movies released in respective year')\n",
    "plt.xlabel('Years')\n",
    "plt.ylabel('Number of movies')\n",
    "plt.xticks(bins)\n",
    "plt.hist(nt.release_year,bins,align = 'right',rwidth=0.8,color = 'teal')\n",
    "plt.show()"
   ]
  },
  {
   "cell_type": "code",
   "execution_count": 28,
   "metadata": {},
   "outputs": [
    {
     "data": {
      "text/plain": [
       "show_id\n",
       "s1       TV-MA\n",
       "s2       TV-MA\n",
       "s3           R\n",
       "s4       PG-13\n",
       "s5       PG-13\n",
       "         ...  \n",
       "s7783    TV-MA\n",
       "s7784    TV-14\n",
       "s7785    TV-MA\n",
       "s7786    TV-PG\n",
       "s7787    TV-MA\n",
       "Name: rating, Length: 7787, dtype: object"
      ]
     },
     "execution_count": 28,
     "metadata": {},
     "output_type": "execute_result"
    }
   ],
   "source": [
    "# RATING\n",
    "\n",
    "nt.rating"
   ]
  },
  {
   "cell_type": "code",
   "execution_count": 29,
   "metadata": {},
   "outputs": [],
   "source": [
    "# REMOVING NAN AND MAKING UNIQUE RATING LIST\n",
    "\n",
    "nt.rating.fillna('None', inplace = True)\n",
    "unique_rating_list = nt.rating.unique() # UNIQUE RATING\n",
    "#unique_rating_list.fillna('None', inplace = True) # Making Nan None\n",
    "#unique_rating_list = [x for x in unique_rating_list if x is not 'None'] # Removing None by list comprehension\n",
    "#print(unique_rating_list) # Printing Unique Ratings"
   ]
  },
  {
   "cell_type": "code",
   "execution_count": 30,
   "metadata": {},
   "outputs": [
    {
     "data": {
      "image/png": "[encoded data removed]",
      "text/plain": [
       "<Figure size 864x504 with 1 Axes>"
      ]
     },
     "metadata": {
      "needs_background": "light"
     },
     "output_type": "display_data"
    }
   ],
   "source": [
    "rate_dict = {} # CREATING DICTIONARY FOR UNIQUE RATINGS AND COUNT OF MOVIES/TV SHOWS\n",
    "for r in list(nt.rating): \n",
    "        if (r in rate_dict): \n",
    "            rate_dict[r] += 1\n",
    "        else: \n",
    "            rate_dict[r] = 1\n",
    "\n",
    "# BAR CHART FOR NUMBER OF MOVIES/SHOWS WITH THEIR RATINGS\n",
    "plt.figure(figsize = (12,7))\n",
    "plt.title('Number of Movies/Shows with their respective ratings')\n",
    "plt.xlabel('Ratings')\n",
    "plt.ylabel('Count of Shows')\n",
    "plt.bar(rate_dict.keys(),rate_dict.values(),color = '#4042e4') # PLOTTING BAR CHART FOR NUMBER OF RATINGS\n",
    "plt.show()"
   ]
  },
  {
   "cell_type": "code",
   "execution_count": 31,
   "metadata": {},
   "outputs": [
    {
     "data": {
      "text/plain": [
       "show_id\n",
       "s1       4 Seasons\n",
       "s2          93 min\n",
       "s3          78 min\n",
       "s4          80 min\n",
       "s5         123 min\n",
       "           ...    \n",
       "s7783       99 min\n",
       "s7784      111 min\n",
       "s7785       44 min\n",
       "s7786     1 Season\n",
       "s7787       90 min\n",
       "Name: duration, Length: 7787, dtype: object"
      ]
     },
     "execution_count": 31,
     "metadata": {},
     "output_type": "execute_result"
    }
   ],
   "source": [
    "# DURATION VARIABLE\n",
    "\n",
    "nt.duration"
   ]
  },
  {
   "cell_type": "code",
   "execution_count": 32,
   "metadata": {},
   "outputs": [],
   "source": [
    "# UNIQUE DURATION\n",
    "unique_duration = list(nt.duration.unique())\n",
    "#print(unique_duration)"
   ]
  },
  {
   "cell_type": "code",
   "execution_count": 33,
   "metadata": {},
   "outputs": [],
   "source": [
    "# DEMARCATING TV SERIES AND MOVIES SEPERATELY\n",
    "\n",
    "season_TVSeries = []\n",
    "minutes_Movies = []\n",
    "\n",
    "for el in unique_duration:\n",
    "    if el[-7::] == 'Seasons' or el[-6::] == 'Season':\n",
    "        season_TVSeries.append(el)\n",
    "    else:\n",
    "        minutes_Movies.append(el)\n",
    "#print(season_TVSeries)\n",
    "#print(minutes_Movies)"
   ]
  },
  {
   "cell_type": "code",
   "execution_count": 34,
   "metadata": {},
   "outputs": [],
   "source": [
    "# FOR SEASONS\n",
    "\n",
    "bins = [x for x in range(1,16)]\n",
    "#print(bins)\n",
    "list_num_seasons = [int(re.sub(\" .*\", \"\", x)) for x in season_TVSeries]\n",
    "#print(list_num_seasons)"
   ]
  },
  {
   "cell_type": "code",
   "execution_count": 35,
   "metadata": {},
   "outputs": [
    {
     "data": {
      "image/png": "[encoded data removed]",
      "text/plain": [
       "<Figure size 504x360 with 1 Axes>"
      ]
     },
     "metadata": {
      "needs_background": "light"
     },
     "output_type": "display_data"
    }
   ],
   "source": [
    "#BAR CHART FOR NUMBER OF UNIQUE SEASONS IN SHOWS\n",
    "\n",
    "plt.figure(figsize = (7,5))\n",
    "plt.title('Number of Unique Seasons in shows')\n",
    "plt.ylabel('Shows')\n",
    "plt.tick_params(axis = 'x', which = 'both', bottom = False, top = False) # REMOVING TICKS\n",
    "plt.xticks(bins, \" \") # REMOVING X LABEL VALUES\n",
    "plt.scatter(bins,list_num_seasons,color = '#4062e4') \n",
    "plt.show()"
   ]
  },
  {
   "cell_type": "code",
   "execution_count": 36,
   "metadata": {},
   "outputs": [],
   "source": [
    "# FOR MOVIES\n",
    "\n",
    "bins = [x for x in range(0,321,40)]\n",
    "list_time_movies = [int(re.sub(\" .*\", \"\", x)) for x in minutes_Movies]\n",
    "#print(bins)\n",
    "#print(list_time_movies)"
   ]
  },
  {
   "cell_type": "code",
   "execution_count": 37,
   "metadata": {},
   "outputs": [
    {
     "data": {
      "image/png": "[encoded data removed]",
      "text/plain": [
       "<Figure size 504x360 with 1 Axes>"
      ]
     },
     "metadata": {
      "needs_background": "light"
     },
     "output_type": "display_data"
    }
   ],
   "source": [
    "# BAR CHART FOR NUMBER OF RATINGS\n",
    "\n",
    "plt.figure(figsize = (7,5))\n",
    "plt.title('Number of Movies with their respective duration')\n",
    "plt.xlabel('Number of Movies')\n",
    "plt.ylabel('Duration')\n",
    "plt.hist(list_time_movies,bins,color = '#657482', orientation = 'horizontal', align = 'mid') # PLOTTING \n",
    "                                                                                            #BAR CHART FOR NUMBER OF RATINGS\n",
    "plt.grid(True,axis='both',which='major')\n",
    "plt.show()"
   ]
  },
  {
   "cell_type": "markdown",
   "metadata": {},
   "source": [
    "### END OF FILE"
   ]
  }
 ],
 "metadata": {
  "kernelspec": {
   "display_name": "Python 3",
   "language": "python",
   "name": "python3"
  },
  "language_info": {
   "codemirror_mode": {
    "name": "ipython",
    "version": 3
   },
   "file_extension": ".py",
   "mimetype": "text/x-python",
   "name": "python",
   "nbconvert_exporter": "python",
   "pygments_lexer": "ipython3",
   "version": "3.7.6"
  }
 },
 "nbformat": 4,
 "nbformat_minor": 4
}
